{
 "cells": [
  {
   "cell_type": "markdown",
   "metadata": {},
   "source": [
    "## Lassonet Demo Notebook - PyTorch\n",
    "\n",
    "This notebook illustrates the Lassonet method for feature selection on a classification task.\n",
    "We will run Lassonet over [the Mice Dataset](https://archive.ics.uci.edu/ml/datasets/Mice%20Protein%20Expression). This dataset consists of protein expression levels measured in the cortex of normal and trisomic mice who had been exposed to different experimental conditions. Each feature is the expression level of one protein."
   ]
  },
  {
   "cell_type": "markdown",
   "metadata": {},
   "source": [
    "First we import a few necessary packages"
   ]
  },
  {
   "cell_type": "code",
   "execution_count": 1,
   "metadata": {},
   "outputs": [],
   "source": [
    "import numpy as np\n",
    "from sklearn.preprocessing import MinMaxScaler\n",
    "from lassonet.lassonet_trainer import lassonet_trainer"
   ]
  },
  {
   "cell_type": "markdown",
   "metadata": {},
   "source": [
    "Then, loading the Mice dataset"
   ]
  },
  {
   "cell_type": "code",
   "execution_count": 2,
   "metadata": {},
   "outputs": [
    {
     "name": "stdout",
     "output_type": "stream",
     "text": [
      "(1080, 77) (1080,)\n"
     ]
    }
   ],
   "source": [
    "def load_mice(one_hot = False):\n",
    "    filling_value = -100000\n",
    "    X = np.genfromtxt('Data_Cortex_Nuclear.csv', delimiter = ',', skip_header = 1, usecols = range(1, 78), filling_values = filling_value, encoding = 'UTF-8')\n",
    "    classes = np.genfromtxt('Data_Cortex_Nuclear.csv', delimiter = ',', skip_header = 1, usecols = range(78, 81), dtype = None, encoding = 'UTF-8')\n",
    "\n",
    "    for i, row in enumerate(X):\n",
    "        for j, val in enumerate(row):\n",
    "            if val == filling_value:\n",
    "                X[i, j] = np.mean([X[k, j] for k in range(classes.shape[0]) if np.all(classes[i] == classes[k])])\n",
    "\n",
    "    DY = np.zeros((classes.shape[0]), dtype = np.uint8)\n",
    "    for i, row in enumerate(classes):\n",
    "        for j, (val, label) in enumerate(zip(row, ['Control', 'Memantine', 'C/S'])):\n",
    "            DY[i] += (2 ** j) * (val == label)\n",
    "\n",
    "    Y = np.zeros((DY.shape[0], np.unique(DY).shape[0]))\n",
    "    for idx, val in enumerate(DY):\n",
    "        Y[idx, val] = 1\n",
    "\n",
    "    X = MinMaxScaler(feature_range=(0,1)).fit_transform(X)\n",
    "\n",
    "    indices = np.arange(X.shape[0])\n",
    "    np.random.shuffle(indices)\n",
    "    X = X[indices]\n",
    "    Y = Y[indices]\n",
    "    DY = DY[indices]\n",
    "    classes = classes[indices]\n",
    "    \n",
    "    if not one_hot:\n",
    "        Y = DY\n",
    "        \n",
    "    X = X.astype(np.float32)\n",
    "    Y = Y.astype(np.float32)\n",
    "    \n",
    "    print(X.shape, Y.shape)\n",
    "    \n",
    "    return (X[: X.shape[0] * 4 // 5], Y[: X.shape[0] * 4 // 5]), (X[X.shape[0] * 4 // 5:], Y[X.shape[0] * 4 // 5: ])\n",
    "\n",
    "name = 'mice'\n",
    "train, test = load_mice()"
   ]
  },
  {
   "cell_type": "markdown",
   "metadata": {},
   "source": [
    "LassoNet natively convers the data into PyTorch Tensors, and is GPU-compatible. If the machine has a GPU, it will be used for training. Otherwise, it defaults to CPU.\n",
    "\n",
    "LassoNet uses a training loop typical of PyTorch. We begin by training an initial fully dense, and use it as warm start over the entire regularization path. The entire training loop takes less than 5 min on a Tesla K80 GPU."
   ]
  },
  {
   "cell_type": "code",
   "execution_count": 4,
   "metadata": {},
   "outputs": [
    {
     "name": "stdout",
     "output_type": "stream",
     "text": [
      "dense model achieved train/test accuracy:0.990/0.954 after 1330 epochs\n",
      "selected 76 features\n",
      "selected 75 features\n",
      "selected 71 features\n",
      "selected 70 features\n",
      "selected 61 features\n",
      "selected 56 features\n",
      "selected 49 features\n",
      "selected 41 features\n",
      "selected 35 features\n",
      "selected 34 features\n",
      "selected 33 features\n",
      "selected 32 features\n",
      "selected 31 features\n",
      "selected 30 features\n",
      "selected 28 features\n",
      "selected 26 features\n",
      "selected 25 features\n",
      "selected 23 features\n",
      "selected 20 features\n",
      "selected 19 features\n",
      "selected 18 features\n",
      "selected 16 features\n",
      "selected 15 features\n",
      "selected 14 features\n",
      "selected 13 features\n",
      "selected 11 features\n",
      "selected 9 features\n",
      "selected 8 features\n",
      "selected 7 features\n",
      "selected 5 features\n",
      "selected 4 features\n",
      "selected 3 features\n",
      "selected 2 features\n",
      "selected 1 features\n"
     ]
    }
   ],
   "source": [
    "lassonet_results = lassonet_trainer(name, train, test)"
   ]
  },
  {
   "cell_type": "markdown",
   "metadata": {},
   "source": [
    "The classification accuracy is plotted below:"
   ]
  },
  {
   "cell_type": "code",
   "execution_count": 17,
   "metadata": {},
   "outputs": [
    {
     "data": {
      "image/png": "[encoded data removed]",
      "text/plain": [
       "<Figure size 648x432 with 1 Axes>"
      ]
     },
     "metadata": {
      "needs_background": "light"
     },
     "output_type": "display_data"
    }
   ],
   "source": [
    "nselected = lassonet_results['nselected']\n",
    "accuracy = lassonet_results['test_accuracy']\n",
    "\n",
    "import matplotlib.pyplot as plt\n",
    "fig = plt.figure(figsize = (9,6))\n",
    "plt.grid(True)\n",
    "plt.plot(nselected, accuracy, 'o-')\n",
    "plt.xlabel(\"number of selected features\")\n",
    "plt.ylabel(\"classification accuracy\")\n",
    "plt.title(\"Classification accuracy\")\n",
    "plt.savefig('fig1.png')\n",
    "plt.show()"
   ]
  },
  {
   "cell_type": "markdown",
   "metadata": {},
   "source": [
    "To view the selected features, we can load the 'indices' list from the trainer."
   ]
  },
  {
   "cell_type": "code",
   "execution_count": 16,
   "metadata": {},
   "outputs": [
    {
     "name": "stdout",
     "output_type": "stream",
     "text": [
      "{77: array([ 0,  1,  2,  3,  4,  5,  6,  7,  8,  9, 10, 11, 12, 13, 14, 15, 16,\n",
      "       17, 18, 19, 20, 21, 22, 23, 24, 25, 26, 27, 28, 29, 30, 31, 32, 33,\n",
      "       34, 35, 36, 37, 38, 39, 40, 41, 42, 43, 44, 45, 46, 47, 48, 49, 50,\n",
      "       51, 52, 53, 54, 55, 56, 57, 58, 59, 60, 61, 62, 63, 64, 65, 66, 67,\n",
      "       68, 69, 70, 71, 72, 73, 74, 75, 76]), 76: array([ 0,  2,  3,  4,  5,  6,  7,  8,  9, 10, 11, 12, 13, 14, 15, 16, 17,\n",
      "       18, 19, 20, 21, 22, 23, 24, 25, 26, 27, 28, 29, 30, 31, 32, 33, 34,\n",
      "       35, 36, 37, 38, 39, 40, 41, 42, 43, 44, 45, 46, 47, 48, 49, 50, 51,\n",
      "       52, 53, 54, 55, 56, 57, 58, 59, 60, 61, 62, 63, 64, 65, 66, 67, 68,\n",
      "       69, 70, 71, 72, 73, 74, 75, 76]), 75: array([ 0,  2,  3,  4,  5,  6,  7,  8, 10, 11, 12, 13, 14, 15, 16, 17, 18,\n",
      "       19, 20, 21, 22, 23, 24, 25, 26, 27, 28, 29, 30, 31, 32, 33, 34, 35,\n",
      "       36, 37, 38, 39, 40, 41, 42, 43, 44, 45, 46, 47, 48, 49, 50, 51, 52,\n",
      "       53, 54, 55, 56, 57, 58, 59, 60, 61, 62, 63, 64, 65, 66, 67, 68, 69,\n",
      "       70, 71, 72, 73, 74, 75, 76]), 71: array([ 2,  3,  4,  5,  6,  8, 10, 11, 12, 13, 14, 15, 16, 17, 18, 19, 20,\n",
      "       21, 22, 23, 24, 25, 26, 27, 28, 29, 31, 32, 34, 35, 36, 37, 38, 39,\n",
      "       40, 41, 42, 43, 44, 45, 46, 47, 48, 49, 50, 51, 52, 53, 54, 55, 56,\n",
      "       57, 58, 59, 60, 61, 62, 63, 64, 65, 66, 67, 68, 69, 70, 71, 72, 73,\n",
      "       74, 75, 76]), 70: array([ 2,  3,  4,  5,  6,  8, 10, 11, 12, 13, 14, 15, 16, 17, 18, 19, 20,\n",
      "       21, 22, 23, 24, 25, 26, 27, 28, 29, 31, 32, 34, 36, 37, 38, 39, 40,\n",
      "       41, 42, 43, 44, 45, 46, 47, 48, 49, 50, 51, 52, 53, 54, 55, 56, 57,\n",
      "       58, 59, 60, 61, 62, 63, 64, 65, 66, 67, 68, 69, 70, 71, 72, 73, 74,\n",
      "       75, 76]), 61: array([ 3,  4,  5,  8, 12, 13, 14, 16, 17, 18, 19, 21, 22, 23, 24, 25, 26,\n",
      "       27, 28, 29, 31, 32, 34, 36, 39, 40, 41, 43, 44, 45, 46, 47, 48, 49,\n",
      "       50, 51, 52, 53, 54, 55, 56, 57, 58, 59, 60, 61, 62, 63, 64, 65, 66,\n",
      "       67, 68, 69, 70, 71, 72, 73, 74, 75, 76]), 56: array([ 3,  4,  8, 12, 13, 14, 16, 17, 18, 21, 23, 26, 27, 28, 29, 31, 32,\n",
      "       34, 36, 39, 40, 41, 43, 44, 45, 46, 47, 48, 49, 50, 51, 52, 53, 54,\n",
      "       55, 56, 57, 58, 59, 60, 61, 62, 63, 64, 65, 66, 67, 68, 69, 70, 71,\n",
      "       72, 73, 74, 75, 76]), 49: array([ 3,  4,  8, 12, 13, 16, 17, 23, 27, 29, 31, 32, 34, 36, 41, 43, 44,\n",
      "       45, 46, 47, 48, 49, 50, 51, 52, 53, 54, 55, 56, 57, 58, 59, 60, 61,\n",
      "       62, 63, 64, 65, 66, 67, 68, 69, 70, 71, 72, 73, 74, 75, 76]), 41: array([ 3, 13, 16, 23, 29, 31, 32, 43, 44, 45, 46, 47, 48, 49, 50, 51, 52,\n",
      "       53, 54, 55, 56, 57, 58, 59, 60, 61, 62, 63, 64, 65, 66, 67, 68, 69,\n",
      "       70, 71, 72, 73, 74, 75, 76]), 35: array([23, 31, 43, 44, 45, 46, 47, 48, 49, 50, 52, 53, 54, 55, 56, 57, 58,\n",
      "       59, 60, 61, 62, 63, 64, 65, 66, 67, 68, 69, 70, 71, 72, 73, 74, 75,\n",
      "       76]), 34: array([23, 31, 43, 44, 45, 46, 47, 48, 49, 50, 52, 53, 54, 55, 56, 57, 58,\n",
      "       59, 60, 61, 62, 63, 64, 65, 66, 68, 69, 70, 71, 72, 73, 74, 75, 76]), 33: array([31, 43, 44, 45, 46, 47, 48, 49, 50, 52, 53, 54, 55, 56, 57, 58, 59,\n",
      "       60, 61, 62, 63, 64, 65, 66, 68, 69, 70, 71, 72, 73, 74, 75, 76]), 32: array([31, 43, 44, 45, 46, 47, 48, 49, 50, 52, 53, 54, 55, 56, 57, 58, 59,\n",
      "       60, 61, 62, 63, 64, 65, 66, 68, 69, 70, 71, 72, 73, 75, 76]), 31: array([31, 43, 44, 45, 46, 48, 49, 50, 52, 53, 54, 55, 56, 57, 58, 59, 60,\n",
      "       61, 62, 63, 64, 65, 66, 68, 69, 70, 71, 72, 73, 75, 76]), 30: array([31, 43, 44, 45, 46, 48, 49, 50, 52, 53, 54, 55, 56, 57, 58, 59, 60,\n",
      "       61, 62, 63, 65, 66, 68, 69, 70, 71, 72, 73, 75, 76]), 28: array([31, 43, 44, 45, 46, 48, 49, 52, 53, 54, 55, 56, 57, 58, 59, 60, 61,\n",
      "       62, 63, 65, 66, 68, 69, 70, 71, 73, 75, 76]), 26: array([31, 43, 44, 45, 46, 48, 49, 52, 53, 54, 55, 56, 58, 59, 60, 61, 62,\n",
      "       63, 65, 68, 69, 70, 71, 73, 75, 76]), 25: array([43, 44, 45, 46, 48, 49, 52, 53, 54, 55, 56, 58, 59, 60, 61, 62, 63,\n",
      "       65, 68, 69, 70, 71, 73, 75, 76]), 23: array([43, 46, 48, 49, 52, 53, 54, 55, 56, 58, 59, 60, 61, 62, 63, 65, 68,\n",
      "       69, 70, 71, 73, 75, 76]), 20: array([43, 46, 48, 49, 52, 53, 55, 56, 58, 60, 62, 63, 65, 68, 69, 70, 71,\n",
      "       73, 75, 76]), 19: array([43, 46, 48, 49, 52, 53, 55, 56, 58, 60, 63, 65, 68, 69, 70, 71, 73,\n",
      "       75, 76]), 18: array([46, 48, 49, 52, 53, 55, 56, 58, 60, 63, 65, 68, 69, 70, 71, 73, 75,\n",
      "       76]), 16: array([46, 48, 49, 52, 53, 55, 58, 60, 63, 65, 68, 69, 70, 73, 75, 76]), 15: array([46, 48, 49, 53, 55, 58, 60, 63, 65, 68, 69, 70, 73, 75, 76]), 14: array([46, 48, 53, 55, 58, 60, 63, 65, 68, 69, 70, 73, 75, 76]), 13: array([46, 48, 53, 55, 60, 63, 65, 68, 69, 70, 73, 75, 76]), 11: array([46, 48, 53, 55, 65, 68, 69, 70, 73, 75, 76]), 9: array([46, 48, 53, 65, 69, 70, 73, 75, 76]), 8: array([46, 48, 53, 65, 69, 70, 73, 76]), 7: array([46, 48, 53, 65, 69, 70, 76]), 5: array([48, 53, 65, 70, 76]), 4: array([53, 65, 70, 76]), 3: array([65, 70, 76]), 2: array([65, 76]), 1: array([76])}\n"
     ]
    }
   ],
   "source": [
    "import pickle\n",
    "indices = pickle.load(open(name+'-indices.pkl','rb'))\n",
    "print(indices['lassonet'])"
   ]
  }
 ],
 "metadata": {
  "kernelspec": {
   "display_name": "Python [conda env:.conda-lassonet] *",
   "language": "python",
   "name": "conda-env-.conda-lassonet-py"
  },
  "language_info": {
   "codemirror_mode": {
    "name": "ipython",
    "version": 3
   },
   "file_extension": ".py",
   "mimetype": "text/x-python",
   "name": "python",
   "nbconvert_exporter": "python",
   "pygments_lexer": "ipython3",
   "version": "3.6.5"
  }
 },
 "nbformat": 4,
 "nbformat_minor": 4
}
